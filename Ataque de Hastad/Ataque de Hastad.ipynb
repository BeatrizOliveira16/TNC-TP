{
 "cells": [
  {
   "cell_type": "markdown",
   "metadata": {
    "collapsed": false
   },
   "source": [
    "# Hastad Broadcast Attack\n",
    "\n",
    "* [Alef Pinto Keuffer](https://github.com/Alef-Keuffer), a91683\n",
    "* [Beatriz Fernandes Oliveira](https://github.com/BeatrizOliveira16), a91640\n",
    "* [Catarina Martins Sá Quintas](https://github.com/CatarinaQuintas), a91650"
   ]
  },
  {
   "cell_type": "markdown",
   "metadata": {
    "collapsed": false
   },
   "source": [
    "# RSA  Background\n",
    "\n",
    "Using code from [[1]](#stein)<a name=\"stein-a\"></a>:\n",
    "\n"
   ]
  },
  {
   "cell_type": "code",
   "execution_count": 1,
   "metadata": {
    "collapsed": false
   },
   "outputs": [
   ],
   "source": [
    "# from W. A. Stein, Elementary number theory: primes, congruences, and secrets a computational approach. New York, NY: Springer, 2009. p. 58.\n",
    "\n",
    "def rsa(bits):\n",
    "    # only prove correctness up to 1024 bits\n",
    "    proof = (bits <= 1024)\n",
    "    p = next_prime(ZZ.random_element(2**(bits//2+1)),\n",
    "            proof=proof)\n",
    "    q = next_prime(ZZ.random_element(2**(bits//2+1)),\n",
    "            proof=proof)\n",
    "    n = p*q\n",
    "    phi_n = (p-1)*(q-1)\n",
    "    while True:\n",
    "        e = ZZ.random_element(1,phi_n)\n",
    "        if gcd(e,phi_n) == 1: break\n",
    "    d = lift(Mod(e,phi_n)^(-1))\n",
    "    return d, n, e\n",
    "\n",
    "def encrypt(m, n, e):\n",
    "    assert m < n # message must be in ℤ/nℤ\n",
    "    return lift(Mod(m,n)^e)\n",
    "\n",
    "def decrypt(c, d, n):\n",
    "    return lift(Mod(c,n)^d)"
   ]
  },
  {
   "cell_type": "code",
   "execution_count": 2,
   "metadata": {
    "collapsed": false
   },
   "outputs": [
   ],
   "source": [
    "def rsa_e(bits,e,used_primes=set()):\n",
    "    # adapted from @rsa and https://www.di-mgt.com.au/rsa_alg.html\n",
    "    # only prove correctness up to 1024 bits\n",
    "    assert e % 2\n",
    "    proof = (bits <= 1024)\n",
    "    while True:\n",
    "        p = next_prime(ZZ.random_element(2**(bits//2+1)),\n",
    "                proof=proof)\n",
    "        if p in used_primes:\n",
    "            continue\n",
    "        if p % e != 1:\n",
    "            break\n",
    "    while True:\n",
    "        q = next_prime(ZZ.random_element(2**(bits//2+1)),\n",
    "                proof=proof)\n",
    "        if q in used_primes:\n",
    "            continue\n",
    "        if q % e != 1:\n",
    "            break\n",
    "    used_primes.update({p,q})\n",
    "    n = p*q\n",
    "    phi_n = (p-1)*(q-1)\n",
    "    d = lift(Mod(e,phi_n)^(-1))\n",
    "    return d, n, e"
   ]
  },
  {
   "cell_type": "markdown",
   "metadata": {
    "collapsed": false
   },
   "source": [
    "## Encoding\n",
    "\n",
    "> In order to use the RSA cryptosystem to encrypt messages, it is necessary to encode them as a sequence of numbers of size less than n = pq. [[1]](#stein)<a name=\"stein-b\"></a>\n",
    "\n",
    "Based on code from [[3]](#stack-encode)<a name=\"stack-encode-a\"></a>:"
   ]
  },
  {
   "cell_type": "code",
   "execution_count": 3,
   "metadata": {
    "collapsed": false
   },
   "outputs": [
   ],
   "source": [
    "# based on stackoverflow.com/questions/55407713/how-to-encode-a-text-string-into-a-number-in-python\n",
    "def encode(s):\n",
    "    s = str(s)\n",
    "    mybytes = b'\\x01' + s.encode('utf8')  # Pad with 1 to preserve trailing zeroes\n",
    "    return int.from_bytes(mybytes, 'big')\n",
    "\n",
    "def decode(n):\n",
    "    n = int(n)\n",
    "    recoveredbytes = n.to_bytes((n.bit_length() + 7) // 8, 'big')\n",
    "    return recoveredbytes[1:].decode('utf8') # Strip pad before decoding"
   ]
  },
  {
   "cell_type": "markdown",
   "metadata": {
    "collapsed": false
   },
   "source": [
    "# Håstad's broadcast attack\n",
    "\n",
    "> Suppose Eve intercepts $C_{1}$, $C_{2}$, and $C_{3}$, where ${\\displaystyle C_i \\equiv M^3 \\pmod {N_i}}$. We may assume ${\\displaystyle \\gcd(N_{i},N_{j})=1}$ for all $i$,$j$ (otherwise, it is possible to compute a factor of one of the numbers $N_{i}$ by computing ${\\displaystyle \\gcd(N_{i},N_{j})}$. By the Chinese remainder theorem, she may compute $C\\in {\\mathbb  {Z}}_{N_{1}N_{2}N_{3}}^{*}$ such that ${\\displaystyle C\\equiv C_{i}{\\pmod {N_i}}}$. Then $C \\equiv M^3\\pmod{N_1 N_2 N_3}$; however, since $M<N_{i}$ for all $i$, we have $M^{3}<N_{1}N_{2}N_{3}$. Thus $C=M^{3}$ holds over the integers, and Eve can compute the cube root of $C$ to obtain $M$. [[2]](#durfee)<a name=\"durfee-a\"></a>"
   ]
  },
  {
   "cell_type": "code",
   "execution_count": 4,
   "metadata": {
    "collapsed": false
   },
   "outputs": [
   ],
   "source": [
    "def hastad(C_list,N_list):\n",
    "    # assumes len(C_list) is the exponent used to encrypt the message.\n",
    "    assert len(C_list) == len(N_list)\n",
    "    return CRT_list(C_list,N_list).nth_root(len(C_list))"
   ]
  },
  {
   "cell_type": "markdown",
   "metadata": {
    "collapsed": false
   },
   "source": [
    "## Examples"
   ]
  },
  {
   "cell_type": "code",
   "execution_count": 5,
   "metadata": {
    "collapsed": false
   },
   "outputs": [
   ],
   "source": [
    "bits = 512"
   ]
  },
  {
   "cell_type": "code",
   "execution_count": 6,
   "metadata": {
    "collapsed": false
   },
   "outputs": [
   ],
   "source": [
    "class Test:\n",
    "    def __init__(self,bits=4096):\n",
    "        self.__keys = {}\n",
    "        self.bits = 4096\n",
    "\n",
    "    def keys(self,e):\n",
    "        if e not in self.__keys:\n",
    "            self.__keys[e] = [rsa_e(self.bits,e) for _ in range(e)]\n",
    "        return self.__keys[e]\n",
    "\n",
    "    def hastad(self,message,e=3):\n",
    "        emessage = encode(message)\n",
    "        cyphertexts = [encrypt(emessage,k[1],k[2]) for k in self.keys(e)]\n",
    "        dmessage = decode(hastad(cyphertexts,[k[1] for k in self.keys(e)]))\n",
    "        print(dmessage)\n",
    "\n",
    "    def encipher_decipher(self,message):\n",
    "        d,N,e = rsa(self.bits)\n",
    "        cyphertext = encipher(message,N,e)\n",
    "        print(m_decipher(cyphertext,d,N))\n",
    "\n",
    "    def m_hastad(self,message,e=3):\n",
    "        cyphertexts = [encipher(message,k[1],k[2]) for k in self.keys(e)]\n",
    "        attacked = m_hastad(cyphertexts,[k[1] for k in self.keys(e)])\n",
    "        print(decipher(attacked))\n",
    "\n",
    "def break_encoded(e_int,max_block_size):\n",
    "    assert max_block_size > 8\n",
    "    e = str(e_int)\n",
    "    len_e = len(e)\n",
    "    r = [0]\n",
    "    i = 0\n",
    "    while i < len_e:\n",
    "        j = i + max_block_size\n",
    "        while j < len_e and e[j] == '0':\n",
    "            j -= 1\n",
    "        r.append(j)\n",
    "        i = j\n",
    "    res = [e[r[i]:r[i+1]] for i in range(0,len(r)-1)]\n",
    "    assert all([s[0] != '0' for s in res])\n",
    "    assert ''.join(res) == e\n",
    "    return [int(i) for i in res]\n",
    "\n",
    "def encipher(M,N,e,encoding=True,min_N=None):\n",
    "    if encoding == True:\n",
    "        enc = encode(M)\n",
    "        max_block_size = int(round(len(str(N)),-2))\n",
    "        return [encrypt(m,N,e) for m in break_encoded(enc,max_block_size)]\n",
    "    else:\n",
    "        return [encrypt(m,N,e) for m in M]\n",
    "\n",
    "def decipher(cyphertext,d=None,N=None):\n",
    "    r = cyphertext\n",
    "    if d is not None and N is not None:\n",
    "        r = [decrypt(c,d,N) for c in cyphertext]\n",
    "    return decode(''.join([str(c) for c in r]))\n",
    "\n",
    "def m_hastad(C_list_list,N_list):\n",
    "    assert len(C_list_list) == len(N_list)\n",
    "    assert len(set(len(cs) for cs in C_list_list)) == 1\n",
    "    r = []\n",
    "    for i in range(len(C_list_list[0])):\n",
    "        r.append(hastad([cs[i] for cs in C_list_list],N_list))\n",
    "    return r"
   ]
  },
  {
   "cell_type": "code",
   "execution_count": 7,
   "metadata": {
    "collapsed": false
   },
   "outputs": [
   ],
   "source": [
    "T = Test(512)"
   ]
  },
  {
   "cell_type": "markdown",
   "metadata": {
    "collapsed": false
   },
   "source": [
    "### Examples for $e = 3$\n",
    "\n",
    "#### Example 1"
   ]
  },
  {
   "cell_type": "code",
   "execution_count": 8,
   "metadata": {
    "collapsed": false
   },
   "outputs": [
    {
     "name": "stdout",
     "output_type": "stream",
     "text": [
      "alef\n"
     ]
    }
   ],
   "source": [
    "T.hastad('alef',3)"
   ]
  },
  {
   "cell_type": "markdown",
   "metadata": {
    "collapsed": false
   },
   "source": [
    "#### Example 2"
   ]
  },
  {
   "cell_type": "code",
   "execution_count": 9,
   "metadata": {
    "collapsed": false
   },
   "outputs": [
    {
     "name": "stdout",
     "output_type": "stream",
     "text": [
      "3rd example.\n"
     ]
    }
   ],
   "source": [
    "T.hastad('3rd example.',3)"
   ]
  },
  {
   "cell_type": "markdown",
   "metadata": {
    "collapsed": false
   },
   "source": [
    "#### Example 3"
   ]
  },
  {
   "cell_type": "code",
   "execution_count": 0,
   "metadata": {
    "collapsed": false
   },
   "outputs": [
   ],
   "source": [
    "T.hastad('m6KKkC7QTL263VX6',3)"
   ]
  },
  {
   "cell_type": "markdown",
   "metadata": {
    "collapsed": false
   },
   "source": [
    "### Examples for $e=5$\n"
   ]
  },
  {
   "cell_type": "markdown",
   "metadata": {
    "collapsed": false
   },
   "source": [
    "#### Example 4"
   ]
  },
  {
   "cell_type": "code",
   "execution_count": 10,
   "metadata": {
    "collapsed": false
   },
   "outputs": [
    {
     "name": "stdout",
     "output_type": "stream",
     "text": [
      "alef\n"
     ]
    }
   ],
   "source": [
    "T.hastad('alef',5)"
   ]
  },
  {
   "cell_type": "markdown",
   "metadata": {
    "collapsed": false
   },
   "source": [
    "### Examples for $e=17$\n",
    "\n",
    "#### Example 5"
   ]
  },
  {
   "cell_type": "code",
   "execution_count": 11,
   "metadata": {
    "collapsed": false
   },
   "outputs": [
    {
     "name": "stdout",
     "output_type": "stream",
     "text": [
      "The RSA algorithm is named after Ron Rivest, Adi Shamir and Len Adleman, who invented it in 1977.\n",
      "RSA use a number of concepts from cryptography:\n",
      "\n",
      "    - A one-way function that is easy to compute; finding a function that reverses it, or computing this function is very difficult.\n",
      "    - RSA uses a concept called discrete logarithm. This works much like the normal logarithm: The difference is that only whole numbers are used, and in general, a modulus operation is involved. As an example ax=b, modulo n. The discrete logarithm is about finding the smallest x that satisfies the equation, when a b and n are provided.\n"
     ]
    }
   ],
   "source": [
    "message = '''The RSA algorithm is named after Ron Rivest, Adi Shamir and Len Adleman, who invented it in 1977.\n",
    "RSA use a number of concepts from cryptography:\n",
    "\n",
    "    - A one-way function that is easy to compute; finding a function that reverses it, or computing this function is very difficult.\n",
    "    - RSA uses a concept called discrete logarithm. This works much like the normal logarithm: The difference is that only whole numbers are used, and in general, a modulus operation is involved. As an example ax=b, modulo n. The discrete logarithm is about finding the smallest x that satisfies the equation, when a b and n are provided.'''\n",
    "\n",
    "T.m_hastad(message,17)"
   ]
  },
  {
   "cell_type": "code",
   "execution_count": 12,
   "metadata": {
    "collapsed": false
   },
   "outputs": [
    {
     "name": "stdout",
     "output_type": "stream",
     "text": [
      "The Rivest, Shamir, Adleman (RSA) cryptosystem is an example of a public key cryptosystem. RSA uses a public key to encrypt messages and decryption is performed using a corresponding private key. We can distribute our public keys, but for security reasons we should keep our private keys to ourselves. The encryption and decryption processes draw upon techniques from elementary number theory. The algorithm below is adapted from page 165 of [TrappeWashington2006]. It outlines the RSA procedure for encryption and decryption.\n",
      "\n",
      "Choose two primes p and q and let n=pq.\n",
      "\n",
      "Let e∈Z be positive such that gcd(e,φ(n))=1.\n",
      "\n",
      "Compute a value for d∈Z such that de≡1(modφ(n)).\n",
      "\n",
      "Our public key is the pair (n,e) and our private key is the triple (p,q,d).\n",
      "\n",
      "For any non-zero integer m<n, encrypt m using c≡me(modn).\n",
      "\n",
      "Decrypt c using m≡cd(modn).\n",
      "\n",
      "The next two sections will step through the RSA algorithm, using Sage to generate public and private keys, and perform encryption and decryption based on those keys.\n"
     ]
    }
   ],
   "source": [
    "message = '''The Rivest, Shamir, Adleman (RSA) cryptosystem is an example of a public key cryptosystem. RSA uses a public key to encrypt messages and decryption is performed using a corresponding private key. We can distribute our public keys, but for security reasons we should keep our private keys to ourselves. The encryption and decryption processes draw upon techniques from elementary number theory. The algorithm below is adapted from page 165 of [TrappeWashington2006]. It outlines the RSA procedure for encryption and decryption.\n",
    "\n",
    "Choose two primes p and q and let n=pq.\n",
    "\n",
    "Let e∈Z be positive such that gcd(e,φ(n))=1.\n",
    "\n",
    "Compute a value for d∈Z such that de≡1(modφ(n)).\n",
    "\n",
    "Our public key is the pair (n,e) and our private key is the triple (p,q,d).\n",
    "\n",
    "For any non-zero integer m<n, encrypt m using c≡me(modn).\n",
    "\n",
    "Decrypt c using m≡cd(modn).\n",
    "\n",
    "The next two sections will step through the RSA algorithm, using Sage to generate public and private keys, and perform encryption and decryption based on those keys.'''\n",
    "\n",
    "T.m_hastad(message,17)"
   ]
  },
  {
   "cell_type": "markdown",
   "metadata": {
    "collapsed": false
   },
   "source": [
    "### $e$ interceptions are required only in the worst case\n",
    "\n",
    "It is possible that $M^e < ∏S$, where $S ⊂ \\{N_0,\\dots,N_e\\}$"
   ]
  },
  {
   "cell_type": "code",
   "execution_count": 13,
   "metadata": {
    "collapsed": false
   },
   "outputs": [
   ],
   "source": [
    "e = 5\n",
    "keys_ = [rsa_e(bits,e) for _ in range(e)]"
   ]
  },
  {
   "cell_type": "code",
   "execution_count": 14,
   "metadata": {
    "collapsed": false
   },
   "outputs": [
    {
     "name": "stdout",
     "output_type": "stream",
     "text": [
      "RSA can be can be vulnerable.\n"
     ]
    }
   ],
   "source": [
    "keys = keys_[:3]\n",
    "def hastad(C_list,N_list,e=None):\n",
    "    # assumes len(C_list) is the exponent used to encrypt the message.\n",
    "    if e is None:\n",
    "        e = len(C_list)\n",
    "    assert len(C_list) == len(N_list)\n",
    "    return CRT_list(C_list,N_list).nth_root(e)\n",
    "\n",
    "emessage = encode('RSA can be can be vulnerable.')\n",
    "cyphertexts = [encrypt(emessage,k[1],k[2]) for k in keys]\n",
    "dmessage = decode(hastad(cyphertexts,[k[1] for k in keys],e))\n",
    "print(dmessage)"
   ]
  },
  {
   "cell_type": "markdown",
   "metadata": {
    "collapsed": false
   },
   "source": [
    "# References\n",
    "\n",
    "<a name=\"stein\"></a>[1] W. A. Stein, Elementary number theory: primes, congruences, and secrets a computational approach. New York, NY: Springer, 2009. p. 58. [ᵃ](#stein-a) [ᵇ](#stein-b)\n",
    "\n",
    "<a name=\"durfee\"></a>[2] G. Durfee, “CRYPTANALYSIS OF RSA USING ALGEBRAIC AND LATTICE METHODS,” p. 25.[ᵃ](#durfee-a)\n",
    "\n",
    "<a name=\"stack-encode\"></a>[3] stackoverflow.com/questions/55407713/how-to-encode-a-text-string-into-a-number-in-python. [ᵃ](#stack-encode-a)\n",
    "\n"
   ]
  },
  {
   "cell_type": "code",
   "execution_count": 0,
   "metadata": {
    "collapsed": false
   },
   "outputs": [
   ],
   "source": [
   ]
  }
 ],
 "metadata": {
  "kernelspec": {
   "display_name": "SageMath 9.5",
   "language": "sagemath",
   "metadata": {
    "cocalc": {
     "description": "Open-source mathematical software system",
     "priority": 2,
     "url": "https://www.sagemath.org/"
    }
   },
   "name": "sage-9.5",
   "resource_dir": "/ext/jupyter/kernels/sage-9.5"
  },
  "language_info": {
   "codemirror_mode": {
    "name": "ipython",
    "version": 3
   },
   "file_extension": ".py",
   "mimetype": "text/x-python",
   "name": "python",
   "nbconvert_exporter": "python",
   "pygments_lexer": "ipython3",
   "version": "3.9.9"
  }
 },
 "nbformat": 4,
 "nbformat_minor": 4
}
{
 "cells": [
  {
   "cell_type": "markdown",
   "metadata": {
    "collapsed": false
   },
   "source": [
    "# Shanks' baby-step giant-step\n",
    "\n",
    "* [Alef Pinto Keuffer](https://github.com/Alef-Keuffer), a91683\n",
    "* [Beatriz Fernandes Oliveira](https://github.com/BeatrizOliveira16), a91640\n",
    "* [Catarina Martins Sá Quintas](https://github.com/CatarinaQuintas), a91650\n",
    "\n"
   ]
  },
  {
   "cell_type": "markdown",
   "metadata": {
    "collapsed": false
   },
   "source": [
    "## Baby-step giant-step algorithm for computing discrete logarithms\n",
    "\n",
    "As described (slightly paraphrased) at [[1]](#menezes)<a name=\"menezes-a\"></a>:\n",
    "\n",
    "> Let $m = ⌈\\sqrt{n}⌉$, where $n$ is the order of $α$. The baby-step giant-step algorithm is a time-memory trade-off of the method of exhaustive search and is based on the following observation. If $β = α^x$, then one can write $x = im+j$, where $0 ≤ i,j < m$. Hence, $α^x$ = $α^{im}α^j$, which implies $β(α^{−m})^i = α^j$. This suggests the following algorithm for computing $x$.\n",
    ">\n",
    "> ---\n",
    ">\n",
    "> __INPUT__: a generator $α$ of a cyclic group $G$ of order $n$, and an element $β ∈ G$.\n",
    ">\n",
    "> __OUTPUT__: the discrete logarithm $x = \\log_αβ$.\n",
    ">\n",
    "> 1. Set $m ← ⌈\\sqrt{n}⌉$.\n",
    "> 2. Construct a table with entries $(j,α^j)$ for $0≤j<m$. Sort this table by second component. (Alternatively, use conventional hashing on the second component to store the entries in a hash table; placing an entry, and searching for an entry in the table takes constant time.)\n",
    "> 3. Compute $α^{−m}$ and set $γ←β$.\n",
    "> 4. For $i$ from $0$ to $m − 1$ do the following:\n",
    ">     <ol>\n",
    ">     <li>Check if $γ$ is the second component of some entry in the table.</li>\n",
    ">     <li>If $γ = α^j$ then return $(x = im + j)$.</li>\n",
    ">     <li>Set $γ ← γ · α^{−m}$.</li>\n",
    ">     </ol>\n",
    ">\n",
    "> ---\n",
    "\n",
    "The above description gives us the following python implementation:\n",
    "\n"
   ]
  },
  {
   "cell_type": "code",
   "execution_count": 25,
   "metadata": {
    "collapsed": false
   },
   "outputs": [
   ],
   "source": [
    "def shanks_baby_step_giant_step(a,b,n):\n",
    "    \"\"\"\n",
    "    Implements baby-step giant-step algorithm for computing discrete logarithms as described at\n",
    "    A. J. Menezes, S. A. Vanstone, and P. C. Van Oorschot, Handbook of applied cryptography, 5th ed. CRC Press, 2001. p. 105.\n",
    "\n",
    "    Parameters:\n",
    "    a,b ∈ G where G is a multiplicative group\n",
    "    n is the order of G\n",
    "\n",
    "    Returns: log_a(b)\n",
    "\n",
    "    Complexity:\n",
    "    Under the assumption that a group multiplication takes no more time than lg n comparisons,\n",
    "    the running time is O(√n).\n",
    "\n",
    "    Requires storage for O(√n) group elements.\n",
    "    \"\"\"\n",
    "    m = ceil(sqrt(n))\n",
    "    table = {a^j:j for j in range(0,m)}\n",
    "    y = b\n",
    "    for i in range(0,m):\n",
    "        if y in table:\n",
    "            return i*m + table[y]\n",
    "        y *= a^(-m)"
   ]
  },
  {
   "cell_type": "markdown",
   "metadata": {
    "collapsed": false
   },
   "source": [
    "### Examples\n",
    "\n",
    "#### With multiplicative groups $ℤ_p^*$"
   ]
  },
  {
   "cell_type": "code",
   "execution_count": 31,
   "metadata": {
    "collapsed": false
   },
   "outputs": [
   ],
   "source": [
    "from sage.misc.html import MathJax\n",
    "mj = MathJax()\n",
    "from IPython.display import display, Math\n",
    "from random import randrange"
   ]
  },
  {
   "cell_type": "code",
   "execution_count": 30,
   "metadata": {
    "collapsed": false
   },
   "outputs": [
    {
     "data": {
      "text/latex": [
       "$\\displaystyle \\left(α = 3,β = 57,G = Z_{113}^*\\right):\\quad \\log_{3}57 = 100$"
      ],
      "text/plain": [
       "<IPython.core.display.Math object>"
      ]
     },
     "execution_count": 30,
     "metadata": {
     },
     "output_type": "execute_result"
    }
   ],
   "source": [
    "n = 113\n",
    "Zn = IntegerModRing(n)\n",
    "α = Zn(3)\n",
    "β = Zn(57)\n",
    "log_αβ = shanks_baby_step_giant_step(α,β,Zn.unit_group().order())\n",
    "display(Math(rf\"\\left({α = },{β = },G = Z_{{{n}}}^*\\right):\\quad \\log_{{{α}}}{β} = {log_αβ}\"))"
   ]
  },
  {
   "cell_type": "code",
   "execution_count": 62,
   "metadata": {
    "collapsed": false
   },
   "outputs": [
   ],
   "source": [
    "def generate_example(max_prime=10000):\n",
    "    n = random_prime(max_prime)\n",
    "    Zn = IntegerModRing(n)\n",
    "    α = Zn.multiplicative_generator()\n",
    "    β = Zn(randrange(1,n))\n",
    "    log_αβ = shanks_baby_step_giant_step(α,β,Zn.unit_group().order())\n",
    "    display(Math(rf\"\\left({α = },{β = },G = Z_{{{n}}}^*\\right):\\quad \\log_{{{α}}}{β} = {log_αβ} ⟺ {α}^{{{log_αβ}}} = {β}\"))"
   ]
  },
  {
   "cell_type": "code",
   "execution_count": 63,
   "metadata": {
    "collapsed": false
   },
   "outputs": [
    {
     "data": {
      "text/latex": [
       "$\\displaystyle \\left(α = 2,β = 2442,G = Z_{9661}^*\\right):\\quad \\log_{2}2442 = 2707 ⟺ 2^{2707} = 2442$"
      ],
      "text/plain": [
       "<IPython.core.display.Math object>"
      ]
     },
     "execution_count": 63,
     "metadata": {
     },
     "output_type": "execute_result"
    }
   ],
   "source": [
    "generate_example()"
   ]
  },
  {
   "cell_type": "code",
   "execution_count": 49,
   "metadata": {
    "collapsed": false
   },
   "outputs": [
    {
     "data": {
      "text/latex": [
       "$\\displaystyle \\left(α = 10,β = 1215,G = Z_{3313}^*\\right):\\quad \\log_{10}1215 = 1883 ⟺ 10^{1883} = 1215$"
      ],
      "text/plain": [
       "<IPython.core.display.Math object>"
      ]
     },
     "execution_count": 49,
     "metadata": {
     },
     "output_type": "execute_result"
    }
   ],
   "source": [
    "generate_example()"
   ]
  },
  {
   "cell_type": "markdown",
   "metadata": {
    "collapsed": false
   },
   "source": [
    "# References\n",
    "\n",
    "<a name=\"menezes\"></a>[1] A. J. Menezes, S. A. Vanstone, and P. C. Van Oorschot, Handbook of applied cryptography, 5th ed. CRC Press, 2001. p. 105. [ᵃ](#menezes-a)"
   ]
  }
 ],
 "metadata": {
  "kernelspec": {
   "display_name": "SageMath 9.5",
   "language": "sagemath",
   "metadata": {
    "cocalc": {
     "description": "Open-source mathematical software system",
     "priority": 2,
     "url": "https://www.sagemath.org/"
    }
   },
   "name": "sage-9.5",
   "resource_dir": "/ext/jupyter/kernels/sage-9.5"
  },
  "language_info": {
   "codemirror_mode": {
    "name": "ipython",
    "version": 3
   },
   "file_extension": ".py",
   "mimetype": "text/x-python",
   "name": "python",
   "nbconvert_exporter": "python",
   "pygments_lexer": "ipython3",
   "version": "3.9.9"
  }
 },
 "nbformat": 4,
 "nbformat_minor": 4
}